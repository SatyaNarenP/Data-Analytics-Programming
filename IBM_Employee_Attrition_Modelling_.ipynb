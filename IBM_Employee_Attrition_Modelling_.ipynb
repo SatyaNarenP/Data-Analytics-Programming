{
  "nbformat": 4,
  "nbformat_minor": 0,
  "metadata": {
    "colab": {
      "name": "IBM Employee Attrition - Modelling .ipynb",
      "version": "0.3.2",
      "provenance": [],
      "collapsed_sections": []
    },
    "kernelspec": {
      "name": "python3",
      "display_name": "Python 3"
    }
  },
  "cells": [
    {
      "cell_type": "code",
      "metadata": {
        "id": "0SzB9dYGJ6Hu",
        "colab_type": "code",
        "outputId": "aa1f479d-17be-48cf-bba1-63fdcfe7ccb4",
        "colab": {
          "base_uri": "https://localhost:8080/",
          "height": 50
        }
      },
      "source": [
        "# Code to read csv file into Colaboratory:\n",
        "!pip install -U -q PyDrive\n",
        "from pydrive.auth import GoogleAuth\n",
        "from pydrive.drive import GoogleDrive\n",
        "from google.colab import auth\n",
        "from oauth2client.client import GoogleCredentials\n",
        "# Authenticate and create the PyDrive client.\n",
        "auth.authenticate_user()\n",
        "gauth = GoogleAuth()\n",
        "gauth.credentials = GoogleCredentials.get_application_default()\n",
        "drive = GoogleDrive(gauth)"
      ],
      "execution_count": 0,
      "outputs": [
        {
          "output_type": "stream",
          "text": [
            "\u001b[?25l\r\u001b[K     |▎                               | 10kB 17.6MB/s eta 0:00:01\r\u001b[K     |▋                               | 20kB 1.5MB/s eta 0:00:01\r\u001b[K     |█                               | 30kB 2.2MB/s eta 0:00:01\r\u001b[K     |█▎                              | 40kB 1.6MB/s eta 0:00:01\r\u001b[K     |█▋                              | 51kB 1.9MB/s eta 0:00:01\r\u001b[K     |██                              | 61kB 2.3MB/s eta 0:00:01\r\u001b[K     |██▎                             | 71kB 2.7MB/s eta 0:00:01\r\u001b[K     |██▋                             | 81kB 3.0MB/s eta 0:00:01\r\u001b[K     |███                             | 92kB 3.4MB/s eta 0:00:01\r\u001b[K     |███▎                            | 102kB 2.7MB/s eta 0:00:01\r\u001b[K     |███▋                            | 112kB 2.7MB/s eta 0:00:01\r\u001b[K     |████                            | 122kB 2.7MB/s eta 0:00:01\r\u001b[K     |████▎                           | 133kB 2.7MB/s eta 0:00:01\r\u001b[K     |████▋                           | 143kB 2.7MB/s eta 0:00:01\r\u001b[K     |█████                           | 153kB 2.7MB/s eta 0:00:01\r\u001b[K     |█████▎                          | 163kB 2.7MB/s eta 0:00:01\r\u001b[K     |█████▋                          | 174kB 2.7MB/s eta 0:00:01\r\u001b[K     |██████                          | 184kB 2.7MB/s eta 0:00:01\r\u001b[K     |██████▎                         | 194kB 2.7MB/s eta 0:00:01\r\u001b[K     |██████▋                         | 204kB 2.7MB/s eta 0:00:01\r\u001b[K     |███████                         | 215kB 2.7MB/s eta 0:00:01\r\u001b[K     |███████▎                        | 225kB 2.7MB/s eta 0:00:01\r\u001b[K     |███████▋                        | 235kB 2.7MB/s eta 0:00:01\r\u001b[K     |████████                        | 245kB 2.7MB/s eta 0:00:01\r\u001b[K     |████████▎                       | 256kB 2.7MB/s eta 0:00:01\r\u001b[K     |████████▋                       | 266kB 2.7MB/s eta 0:00:01\r\u001b[K     |█████████                       | 276kB 2.7MB/s eta 0:00:01\r\u001b[K     |█████████▎                      | 286kB 2.7MB/s eta 0:00:01\r\u001b[K     |█████████▋                      | 296kB 2.7MB/s eta 0:00:01\r\u001b[K     |██████████                      | 307kB 2.7MB/s eta 0:00:01\r\u001b[K     |██████████▎                     | 317kB 2.7MB/s eta 0:00:01\r\u001b[K     |██████████▋                     | 327kB 2.7MB/s eta 0:00:01\r\u001b[K     |███████████                     | 337kB 2.7MB/s eta 0:00:01\r\u001b[K     |███████████▎                    | 348kB 2.7MB/s eta 0:00:01\r\u001b[K     |███████████▋                    | 358kB 2.7MB/s eta 0:00:01\r\u001b[K     |████████████                    | 368kB 2.7MB/s eta 0:00:01\r\u001b[K     |████████████▎                   | 378kB 2.7MB/s eta 0:00:01\r\u001b[K     |████████████▋                   | 389kB 2.7MB/s eta 0:00:01\r\u001b[K     |█████████████                   | 399kB 2.7MB/s eta 0:00:01\r\u001b[K     |█████████████▎                  | 409kB 2.7MB/s eta 0:00:01\r\u001b[K     |█████████████▋                  | 419kB 2.7MB/s eta 0:00:01\r\u001b[K     |██████████████                  | 430kB 2.7MB/s eta 0:00:01\r\u001b[K     |██████████████▎                 | 440kB 2.7MB/s eta 0:00:01\r\u001b[K     |██████████████▋                 | 450kB 2.7MB/s eta 0:00:01\r\u001b[K     |███████████████                 | 460kB 2.7MB/s eta 0:00:01\r\u001b[K     |███████████████▎                | 471kB 2.7MB/s eta 0:00:01\r\u001b[K     |███████████████▋                | 481kB 2.7MB/s eta 0:00:01\r\u001b[K     |████████████████                | 491kB 2.7MB/s eta 0:00:01\r\u001b[K     |████████████████▎               | 501kB 2.7MB/s eta 0:00:01\r\u001b[K     |████████████████▋               | 512kB 2.7MB/s eta 0:00:01\r\u001b[K     |█████████████████               | 522kB 2.7MB/s eta 0:00:01\r\u001b[K     |█████████████████▎              | 532kB 2.7MB/s eta 0:00:01\r\u001b[K     |█████████████████▋              | 542kB 2.7MB/s eta 0:00:01\r\u001b[K     |██████████████████              | 552kB 2.7MB/s eta 0:00:01\r\u001b[K     |██████████████████▎             | 563kB 2.7MB/s eta 0:00:01\r\u001b[K     |██████████████████▋             | 573kB 2.7MB/s eta 0:00:01\r\u001b[K     |███████████████████             | 583kB 2.7MB/s eta 0:00:01\r\u001b[K     |███████████████████▎            | 593kB 2.7MB/s eta 0:00:01\r\u001b[K     |███████████████████▋            | 604kB 2.7MB/s eta 0:00:01\r\u001b[K     |████████████████████            | 614kB 2.7MB/s eta 0:00:01\r\u001b[K     |████████████████████▎           | 624kB 2.7MB/s eta 0:00:01\r\u001b[K     |████████████████████▋           | 634kB 2.7MB/s eta 0:00:01\r\u001b[K     |█████████████████████           | 645kB 2.7MB/s eta 0:00:01\r\u001b[K     |█████████████████████▎          | 655kB 2.7MB/s eta 0:00:01\r\u001b[K     |█████████████████████▋          | 665kB 2.7MB/s eta 0:00:01\r\u001b[K     |██████████████████████          | 675kB 2.7MB/s eta 0:00:01\r\u001b[K     |██████████████████████▎         | 686kB 2.7MB/s eta 0:00:01\r\u001b[K     |██████████████████████▋         | 696kB 2.7MB/s eta 0:00:01\r\u001b[K     |███████████████████████         | 706kB 2.7MB/s eta 0:00:01\r\u001b[K     |███████████████████████▎        | 716kB 2.7MB/s eta 0:00:01\r\u001b[K     |███████████████████████▋        | 727kB 2.7MB/s eta 0:00:01\r\u001b[K     |████████████████████████        | 737kB 2.7MB/s eta 0:00:01\r\u001b[K     |████████████████████████▎       | 747kB 2.7MB/s eta 0:00:01\r\u001b[K     |████████████████████████▋       | 757kB 2.7MB/s eta 0:00:01\r\u001b[K     |████████████████████████▉       | 768kB 2.7MB/s eta 0:00:01\r\u001b[K     |█████████████████████████▏      | 778kB 2.7MB/s eta 0:00:01\r\u001b[K     |█████████████████████████▌      | 788kB 2.7MB/s eta 0:00:01\r\u001b[K     |█████████████████████████▉      | 798kB 2.7MB/s eta 0:00:01\r\u001b[K     |██████████████████████████▏     | 808kB 2.7MB/s eta 0:00:01\r\u001b[K     |██████████████████████████▌     | 819kB 2.7MB/s eta 0:00:01\r\u001b[K     |██████████████████████████▉     | 829kB 2.7MB/s eta 0:00:01\r\u001b[K     |███████████████████████████▏    | 839kB 2.7MB/s eta 0:00:01\r\u001b[K     |███████████████████████████▌    | 849kB 2.7MB/s eta 0:00:01\r\u001b[K     |███████████████████████████▉    | 860kB 2.7MB/s eta 0:00:01\r\u001b[K     |████████████████████████████▏   | 870kB 2.7MB/s eta 0:00:01\r\u001b[K     |████████████████████████████▌   | 880kB 2.7MB/s eta 0:00:01\r\u001b[K     |████████████████████████████▉   | 890kB 2.7MB/s eta 0:00:01\r\u001b[K     |█████████████████████████████▏  | 901kB 2.7MB/s eta 0:00:01\r\u001b[K     |█████████████████████████████▌  | 911kB 2.7MB/s eta 0:00:01\r\u001b[K     |█████████████████████████████▉  | 921kB 2.7MB/s eta 0:00:01\r\u001b[K     |██████████████████████████████▏ | 931kB 2.7MB/s eta 0:00:01\r\u001b[K     |██████████████████████████████▌ | 942kB 2.7MB/s eta 0:00:01\r\u001b[K     |██████████████████████████████▉ | 952kB 2.7MB/s eta 0:00:01\r\u001b[K     |███████████████████████████████▏| 962kB 2.7MB/s eta 0:00:01\r\u001b[K     |███████████████████████████████▌| 972kB 2.7MB/s eta 0:00:01\r\u001b[K     |███████████████████████████████▉| 983kB 2.7MB/s eta 0:00:01\r\u001b[K     |████████████████████████████████| 993kB 2.7MB/s \n",
            "\u001b[?25h  Building wheel for PyDrive (setup.py) ... \u001b[?25l\u001b[?25hdone\n"
          ],
          "name": "stdout"
        }
      ]
    },
    {
      "cell_type": "code",
      "metadata": {
        "id": "rCMJWIT5J-gF",
        "colab_type": "code",
        "outputId": "82ca6e27-aa5c-4fe5-c90d-c4a8e9497c6e",
        "colab": {
          "base_uri": "https://localhost:8080/",
          "height": 33
        }
      },
      "source": [
        "link = 'https://drive.google.com/open?id=1wpN7ltr-UZE3RlBsWlAJxl0lhRMcMl2j' # The shareable link\n",
        "\n",
        "fluff, id = link.split('=')\n",
        "print (id) # Verify that you have everything after '='\n",
        "\n",
        "downloaded = drive.CreateFile({'id':id}) \n",
        "downloaded.GetContentFile('IBM Employee Data.csv')"
      ],
      "execution_count": 0,
      "outputs": [
        {
          "output_type": "stream",
          "text": [
            "1wpN7ltr-UZE3RlBsWlAJxl0lhRMcMl2j\n"
          ],
          "name": "stdout"
        }
      ]
    },
    {
      "cell_type": "code",
      "metadata": {
        "id": "m_N_PoXiMKI_",
        "colab_type": "code",
        "outputId": "2bda30d0-80dc-4062-fe4e-8579afcdffc5",
        "colab": {
          "base_uri": "https://localhost:8080/",
          "height": 33
        }
      },
      "source": [
        "import pandas as pd\n",
        "from pandas import Series,DataFrame\n",
        "%pylab inline\n",
        "import matplotlib.ticker as ticker\n",
        "import matplotlib.pyplot as plt"
      ],
      "execution_count": 0,
      "outputs": [
        {
          "output_type": "stream",
          "text": [
            "Populating the interactive namespace from numpy and matplotlib\n"
          ],
          "name": "stdout"
        }
      ]
    },
    {
      "cell_type": "markdown",
      "metadata": {
        "id": "qCkxwfCfvICE",
        "colab_type": "text"
      },
      "source": [
        "# **Reading the file**"
      ]
    },
    {
      "cell_type": "code",
      "metadata": {
        "id": "jSVyvNJjMPIV",
        "colab_type": "code",
        "outputId": "8856fe65-0229-4b01-f26c-2cfa22f6a5a2",
        "colab": {
          "base_uri": "https://localhost:8080/",
          "height": 67
        }
      },
      "source": [
        "df_ibm = pd.read_csv('/content/IBM Employee Data.csv')\n",
        "df_ibm.head(2)\n",
        "df_ibm['Attrition'].value_counts()\n",
        "\n",
        "\n",
        "\n",
        "# df_ibm['Age'] = df_ibm['Age'].astype(int)\n",
        "# df_ibm['DistanceFromHome'] = df_ibm['DistanceFromHome'].astype(int)\n",
        "# df_ibm['EmployeeCount'] = df_ibm['EmployeeCount'].astype(int)\n",
        "# df_ibm['MonthlyIncome'] = df_ibm['MonthlyIncome'].astype(int)\n",
        "# df_ibm['YearsAtCompany'] = df_ibm['YearsAtCompany'].astype(int)\n",
        "# df_ibm['YearsWithCurrManager'] = df_ibm['YearsWithCurrManager'].astype(int)\n",
        "# df_ibm['TotalWorkingYears'] = df_ibm['TotalWorkingYears'].astype(int)\n",
        "# df_ibm['YearsSinceLastPromotion'] = df_ibm['YearsSinceLastPromotion'].astype(int)\n",
        "# df_ibm['HourlyRate'] = df_ibm['HourlyRate'].astype(int)\n",
        "# df_ibm['JobLevel'] = df_ibm['JobLevel'].astype(int)\n",
        "# df_ibm['NumCompaniesWorked'] = df_ibm['NumCompaniesWorked'].astype(int)\n",
        "# df_ibm['PercentSalaryHike'] = df_ibm['PercentSalaryHike'].astype(int)\n",
        "# df_ibm['WorkLifeBalance'] = df_ibm['WorkLifeBalance'].astype(int)\n",
        "\n"
      ],
      "execution_count": 0,
      "outputs": [
        {
          "output_type": "execute_result",
          "data": {
            "text/plain": [
              "No     1233\n",
              "Yes     237\n",
              "Name: Attrition, dtype: int64"
            ]
          },
          "metadata": {
            "tags": []
          },
          "execution_count": 7
        }
      ]
    },
    {
      "cell_type": "code",
      "metadata": {
        "id": "KciXFGRDMulY",
        "colab_type": "code",
        "colab": {}
      },
      "source": [
        "from sklearn.model_selection import train_test_split\n",
        "from sklearn.preprocessing import LabelEncoder, OneHotEncoder\n",
        "from sklearn.neighbors import KNeighborsClassifier\n",
        "from sklearn.metrics import classification_report, confusion_matrix\n",
        "from imblearn.over_sampling import SMOTE\n",
        "import random\n",
        "from patsy import dmatrices\n",
        "from sklearn import metrics\n",
        "from sklearn.ensemble import RandomForestClassifier\n",
        "import seaborn as sns\n",
        "import matplotlib.pyplot as plt     \n"
      ],
      "execution_count": 0,
      "outputs": []
    },
    {
      "cell_type": "markdown",
      "metadata": {
        "id": "GYIY_Ugbv66A",
        "colab_type": "text"
      },
      "source": [
        "# Converting the Attrition field to binary"
      ]
    },
    {
      "cell_type": "code",
      "metadata": {
        "id": "ypaLFLL_MwVZ",
        "colab_type": "code",
        "outputId": "7d551174-5432-4647-cba3-111066f8cb24",
        "colab": {
          "base_uri": "https://localhost:8080/",
          "height": 67
        }
      },
      "source": [
        "def getbinary(s):\n",
        "    if s == 'No':\n",
        "        return 0\n",
        "    else:\n",
        "        return 1\n",
        "\n",
        "df_ibm['Attrition'] = df_ibm['Attrition'].map(getbinary)\n",
        "\n",
        "\n",
        "print (df_ibm['Attrition'].value_counts())"
      ],
      "execution_count": 0,
      "outputs": [
        {
          "output_type": "stream",
          "text": [
            "0    1233\n",
            "1     237\n",
            "Name: Attrition, dtype: int64\n"
          ],
          "name": "stdout"
        }
      ]
    },
    {
      "cell_type": "markdown",
      "metadata": {
        "id": "iOuOP3BIwIwm",
        "colab_type": "text"
      },
      "source": [
        "# **Creating dummies for Categorical Variables**"
      ]
    },
    {
      "cell_type": "code",
      "metadata": {
        "id": "3rvk3SMDODQL",
        "colab_type": "code",
        "outputId": "57cce93b-8f8d-48ba-8f0d-d4ffc0d41096",
        "colab": {
          "base_uri": "https://localhost:8080/",
          "height": 134
        }
      },
      "source": [
        "df_dummies = pd.get_dummies(df_ibm,columns = ['BusinessTravel','Department','EducationField','Gender','JobRole','MaritalStatus','Over18',\n",
        "                                             'OverTime'])\n",
        "print (df_dummies.shape)\n",
        "print (df_ibm.shape)\n",
        "\n",
        "print (df_dummies.head(2))"
      ],
      "execution_count": 0,
      "outputs": [
        {
          "output_type": "stream",
          "text": [
            "(1470, 56)\n",
            "(1470, 35)\n",
            "   Age  Attrition  DailyRate  ...  Over18_Y  OverTime_No  OverTime_Yes\n",
            "0   41          1       1102  ...         1            0             1\n",
            "1   49          0        279  ...         1            1             0\n",
            "\n",
            "[2 rows x 56 columns]\n"
          ],
          "name": "stdout"
        }
      ]
    },
    {
      "cell_type": "markdown",
      "metadata": {
        "id": "cDd5Zk-kwNPo",
        "colab_type": "text"
      },
      "source": [
        "# **Making the test and train splits**"
      ]
    },
    {
      "cell_type": "code",
      "metadata": {
        "id": "p5Hwy01IOSGk",
        "colab_type": "code",
        "outputId": "90173cf8-be50-4803-8dcc-89fe9d2c88de",
        "colab": {
          "base_uri": "https://localhost:8080/",
          "height": 288
        }
      },
      "source": [
        "random.seed(21)\n",
        "\n",
        "#formula = 'Attrition ~ 0+' + ' + '.join(['Q(\"'+x+'\")' for x in (df_ibm.columns.values.tolist()[:1]+df_ibm.columns.values.tolist()[2:])])\n",
        "\n",
        "formula = 'Attrition ~ 0+ Q(\"Age\") +Q(\"EmployeeNumber\") + Q(\"BusinessTravel\") + Q(\"Department\") + Q(\"EducationField\") + Q(\"EnvironmentSatisfaction\") + Q(\"Gender\") + Q(\"JobInvolvement\") + Q(\"JobLevel\") + Q(\"JobRole\") + Q(\"JobSatisfaction\") + Q(\"MaritalStatus\") + Q(\"MonthlyIncome\")  + Q(\"NumCompaniesWorked\")  + Q(\"OverTime\") + Q(\"PercentSalaryHike\") + Q(\"RelationshipSatisfaction\")  + Q(\"TotalWorkingYears\") + Q(\"TrainingTimesLastYear\") + Q(\"WorkLifeBalance\")'\n",
        "print (formula)\n",
        "\n",
        "Y, Xnew = dmatrices(formula, df_ibm, return_type='dataframe')\n",
        "y = Y['Attrition'].values\n",
        "\n",
        "\n",
        "\n",
        "\n",
        "\n",
        "X_train, X_test_new, y_train, y_test = train_test_split(Xnew, y, test_size=0.20,random_state = 1)\n",
        "\n",
        "\n",
        "X_test = X_test_new.drop('Q(\"EmployeeNumber\")'\t, 1)\n",
        "X_train = X_train.drop('Q(\"EmployeeNumber\")'\t, 1)\n",
        "\n",
        "\n",
        "print (X_train.shape)\n",
        "print (X_test.shape)\n",
        "print (y_train.shape)\n",
        "\n",
        "print (X_train.head(2))\n",
        "print (y_train)\n",
        "\n",
        "print (Xnew.head(2))"
      ],
      "execution_count": 0,
      "outputs": [
        {
          "output_type": "stream",
          "text": [
            "Attrition ~ 0+ Q(\"Age\") +Q(\"EmployeeNumber\") + Q(\"BusinessTravel\") + Q(\"Department\") + Q(\"EducationField\") + Q(\"EnvironmentSatisfaction\") + Q(\"Gender\") + Q(\"JobInvolvement\") + Q(\"JobLevel\") + Q(\"JobRole\") + Q(\"JobSatisfaction\") + Q(\"MaritalStatus\") + Q(\"MonthlyIncome\")  + Q(\"NumCompaniesWorked\")  + Q(\"OverTime\") + Q(\"PercentSalaryHike\") + Q(\"RelationshipSatisfaction\")  + Q(\"TotalWorkingYears\") + Q(\"TrainingTimesLastYear\") + Q(\"WorkLifeBalance\")\n",
            "(1176, 34)\n",
            "(294, 34)\n",
            "(1176,)\n",
            "     Q(\"BusinessTravel\")[Non-Travel]  ...  Q(\"WorkLifeBalance\")\n",
            "163                              0.0  ...                   1.0\n",
            "47                               0.0  ...                   3.0\n",
            "\n",
            "[2 rows x 34 columns]\n",
            "[0. 0. 1. ... 0. 0. 0.]\n",
            "   Q(\"BusinessTravel\")[Non-Travel]  ...  Q(\"WorkLifeBalance\")\n",
            "0                              0.0  ...                   1.0\n",
            "1                              0.0  ...                   3.0\n",
            "\n",
            "[2 rows x 35 columns]\n"
          ],
          "name": "stdout"
        }
      ]
    },
    {
      "cell_type": "markdown",
      "metadata": {
        "id": "K-1pNpQxwT38",
        "colab_type": "text"
      },
      "source": [
        "# **Oversampling the train data using SMOTE**"
      ]
    },
    {
      "cell_type": "code",
      "metadata": {
        "id": "ZMsPdhVWOYd_",
        "colab_type": "code",
        "outputId": "5f306fe1-01c1-4d2f-b757-c973288f32ca",
        "colab": {
          "base_uri": "https://localhost:8080/",
          "height": 201
        }
      },
      "source": [
        "sm  = SMOTE(random_state = 2)\n",
        "\n",
        "X_train_smote, y_train_smote = sm.fit_sample(X_train, y_train.ravel())\n",
        "\n",
        "print (X_train.shape)\n",
        "print (y_train.shape)\n",
        "\n",
        "print (X_train_smote.shape)\n",
        "print (y_train_smote.shape)\n",
        "\n",
        "print (sum(y_train_smote))\n",
        "print (len(y_train_smote))\n",
        "\n",
        "print (X_train.head(2))"
      ],
      "execution_count": 0,
      "outputs": [
        {
          "output_type": "stream",
          "text": [
            "(1176, 34)\n",
            "(1176,)\n",
            "(1994, 34)\n",
            "(1994,)\n",
            "997.0\n",
            "1994\n",
            "     Q(\"BusinessTravel\")[Non-Travel]  ...  Q(\"WorkLifeBalance\")\n",
            "163                              0.0  ...                   1.0\n",
            "47                               0.0  ...                   3.0\n",
            "\n",
            "[2 rows x 34 columns]\n"
          ],
          "name": "stdout"
        }
      ]
    },
    {
      "cell_type": "markdown",
      "metadata": {
        "id": "X_fMnHeSf1jL",
        "colab_type": "text"
      },
      "source": [
        "# **Implementing Logistic Regression**"
      ]
    },
    {
      "cell_type": "code",
      "metadata": {
        "id": "uGFQtUa0f03O",
        "colab_type": "code",
        "outputId": "1a4e59bc-9ba5-48de-ae06-150d9c824697",
        "colab": {
          "base_uri": "https://localhost:8080/",
          "height": 733
        }
      },
      "source": [
        "from sklearn.linear_model import LogisticRegression\n",
        "model = LogisticRegression()\n",
        "\n",
        "\n",
        "## USING SMOTE DATA\n",
        "result = model.fit(X_train_smote, y_train_smote)\n",
        "prediction_train = model.predict(X_train_smote)\n",
        "print (metrics.accuracy_score(y_train_smote, prediction_train))\n",
        "print (metrics.classification_report(y_train_smote,prediction_train))\n",
        "\n",
        "print('test starts here')\n",
        "\n",
        "prediction = model.predict(X_test)\n",
        "\n",
        "all_prediction = model.predict_proba(X_test)[:,1]\n",
        "\n",
        "print (metrics.accuracy_score(y_test, prediction))\n",
        "print( metrics.classification_report(y_test,prediction))\n",
        "print(metrics.roc_auc_score(y_test, prediction,sample_weight=None, max_fpr=None))\n",
        "\n",
        "\n",
        "\n",
        "# CONFUSION MATRIX\n",
        "\n",
        "cm= metrics.confusion_matrix(y_test,prediction)\n",
        "\n",
        "ax= plt.subplot()\n",
        "sns.heatmap(cm, annot=True, ax = ax); #annot=True to annotate cells\n",
        "\n",
        "# labels, title and ticks\n",
        "ax.set_xlabel('Predicted labels');ax.set_ylabel('True labels'); \n",
        "ax.set_title('Confusion Matrix'); \n",
        "ax.xaxis.set_ticklabels(['did not attite', 'attrited']); ax.yaxis.set_ticklabels(['did not attrite', 'attrite'])\n",
        "\n",
        "\n",
        "\n",
        "print('xxxxxxxxxxxxxxxxxxxxxxxxxxxxxxx')\n",
        "# ## USING NORMAL DATA\n",
        "\n",
        "# result = model.fit(X_train, y_train)\n",
        "# prediction_train = model.predict(X_train)\n",
        "# print (metrics.accuracy_score(y_train, prediction_train))\n",
        "# print (metrics.classification_report(y_train,prediction_train))\n",
        "\n",
        "# print('test starts here')\n",
        "\n",
        "\n",
        "# prediction = model.predict(X_test)\n",
        "# print (metrics.accuracy_score(y_test, prediction))\n",
        "# print (metrics.classification_report(y_test,prediction))\n",
        "# print (metrics.confusion_matrix(prediction,y_test))\n",
        "\n",
        "\n",
        "\n",
        "# weights = Series(model.coef_[0],\n",
        "#                  index=X.columns.values)\n",
        "# weights.sort_values()\n",
        "\n",
        "\n",
        "# print(metrics.roc_auc_score(y_test, prediction,sample_weight=None, max_fpr=None))"
      ],
      "execution_count": 0,
      "outputs": [
        {
          "output_type": "stream",
          "text": [
            "/usr/local/lib/python3.6/dist-packages/sklearn/linear_model/logistic.py:432: FutureWarning: Default solver will be changed to 'lbfgs' in 0.22. Specify a solver to silence this warning.\n",
            "  FutureWarning)\n"
          ],
          "name": "stderr"
        },
        {
          "output_type": "stream",
          "text": [
            "0.7808425275827482\n",
            "              precision    recall  f1-score   support\n",
            "\n",
            "         0.0       0.78      0.78      0.78       997\n",
            "         1.0       0.78      0.78      0.78       997\n",
            "\n",
            "    accuracy                           0.78      1994\n",
            "   macro avg       0.78      0.78      0.78      1994\n",
            "weighted avg       0.78      0.78      0.78      1994\n",
            "\n",
            "test starts here\n",
            "0.7380952380952381\n",
            "              precision    recall  f1-score   support\n",
            "\n",
            "         0.0       0.92      0.74      0.82       236\n",
            "         1.0       0.41      0.74      0.53        58\n",
            "\n",
            "    accuracy                           0.74       294\n",
            "   macro avg       0.67      0.74      0.67       294\n",
            "weighted avg       0.82      0.74      0.76       294\n",
            "\n",
            "0.739333722969024\n",
            "xxxxxxxxxxxxxxxxxxxxxxxxxxxxxxx\n"
          ],
          "name": "stdout"
        },
        {
          "output_type": "display_data",
          "data": {
            "image/png": "[encoded data removed]",
            "text/plain": [
              "<Figure size 432x288 with 2 Axes>"
            ]
          },
          "metadata": {
            "tags": []
          }
        }
      ]
    },
    {
      "cell_type": "markdown",
      "metadata": {
        "id": "gvDs6tdUc94E",
        "colab_type": "text"
      },
      "source": [
        "# Getting the predicions for all employees using the model trained earlier"
      ]
    },
    {
      "cell_type": "code",
      "metadata": {
        "id": "nO9T5JTec8s5",
        "colab_type": "code",
        "colab": {}
      },
      "source": [
        "\n",
        "all_prediction = model.predict_proba(X)[:,1]\n",
        "\n",
        "train_predicts = model.predict(X_train)\n",
        "\n",
        "\n",
        "#all_prediction\n",
        "\n",
        "df_ibm['EmployeeNumber'].values\n",
        "\n",
        "predictedprobs = pd.DataFrame({'empnumber': df_ibm['EmployeeNumber'].values, 'probs': all_prediction}, columns=['empnumber', 'probs'])\n",
        "\n",
        "\n",
        "predictedprobs.head(2)\n",
        "\n",
        "predictedprobs.to_csv(r'IBMProbs.csv')\n",
        "\n",
        "from google.colab import files\n",
        "files.download(\"IBMProbs.csv\")\n"
      ],
      "execution_count": 0,
      "outputs": []
    },
    {
      "cell_type": "code",
      "metadata": {
        "id": "8cxFGv4u6rQX",
        "colab_type": "code",
        "colab": {}
      },
      "source": [
        "# all_prediction = model.predict_proba(X_test)[:,1]\n",
        "\n",
        "# train_predicts = model.predict(X_test)\n",
        "\n",
        "\n",
        "# print(len(all_prediction))\n",
        "#print (len(X_test_new))\n",
        "# #all_prediction\n",
        "\n",
        "# df_ibm['EmployeeNumber'].values\n",
        "\n",
        "predictedprobs = pd.DataFrame({'empnumber': X_test_new['Q(\"EmployeeNumber\")'].values, 'probs': all_prediction}, columns=['empnumber', 'probs'])\n",
        "\n",
        "predictedprobs.head(2)\n",
        "\n",
        "predictedprobs.to_csv(r'IBMProbsTest.csv')\n",
        "\n",
        "from google.colab import files\n",
        "files.download(\"IBMProbsTest.csv\")"
      ],
      "execution_count": 0,
      "outputs": []
    },
    {
      "cell_type": "code",
      "metadata": {
        "id": "Xmb7S5ajB9km",
        "colab_type": "code",
        "outputId": "d65c8760-9768-4356-a3a5-f7aee45324a3",
        "colab": {
          "base_uri": "https://localhost:8080/",
          "height": 33
        }
      },
      "source": [
        "sum(all_prediction)"
      ],
      "execution_count": 0,
      "outputs": [
        {
          "output_type": "execute_result",
          "data": {
            "text/plain": [
              "105.0"
            ]
          },
          "metadata": {
            "tags": []
          },
          "execution_count": 84
        }
      ]
    },
    {
      "cell_type": "markdown",
      "metadata": {
        "id": "L6e_BTP2wXol",
        "colab_type": "text"
      },
      "source": [
        "# **Implementing KNN for k = 1 to 100 and calculating the recall\n"
      ]
    },
    {
      "cell_type": "code",
      "metadata": {
        "id": "NAEQ5mPrQShq",
        "colab_type": "code",
        "colab": {}
      },
      "source": [
        "## implementing KNN\n",
        "recall = []\n",
        "for i in range(100):\n",
        "  classifier = KNeighborsClassifier(n_neighbors= (i+1))\n",
        "  classifier.fit(X_train, y_train)\n",
        "  y_pred = classifier.predict(X_test)\n",
        "  #print(confusion_matrix(y_test, y_pred))\n",
        "  recall.append(metrics.accuracy_score(y_test, y_pred))\n",
        "  #recall.append (confusion_matrix(y_test, y_pred)[1,1]* 100.0/sum(confusion_matrix(y_test, y_pred)[1,]))\n",
        "  #print(classification_report(y_test, y_pred))"
      ],
      "execution_count": 0,
      "outputs": []
    },
    {
      "cell_type": "code",
      "metadata": {
        "id": "0S29clLERtJg",
        "colab_type": "code",
        "outputId": "7a3e5aff-d739-4b0b-d1ee-0d36e599bbc2",
        "colab": {
          "base_uri": "https://localhost:8080/",
          "height": 87
        }
      },
      "source": [
        "print (recall)\n",
        "best_k = recall.index(max(recall))\n",
        "print (best_k)\n",
        "print ('The best recall value is',recall[best_k])"
      ],
      "execution_count": 0,
      "outputs": [
        {
          "output_type": "stream",
          "text": [
            "[0.7585034013605442, 0.7993197278911565, 0.7755102040816326, 0.7925170068027211, 0.7789115646258503, 0.7959183673469388, 0.7993197278911565, 0.8061224489795918, 0.8027210884353742, 0.7993197278911565, 0.7993197278911565, 0.8027210884353742, 0.8027210884353742, 0.8027210884353742, 0.8027210884353742, 0.8027210884353742, 0.7993197278911565, 0.8027210884353742, 0.7993197278911565, 0.8027210884353742, 0.8027210884353742, 0.8027210884353742, 0.8027210884353742, 0.8027210884353742, 0.7993197278911565, 0.8027210884353742, 0.8027210884353742, 0.8027210884353742, 0.8027210884353742, 0.8027210884353742, 0.8027210884353742, 0.8027210884353742, 0.8027210884353742, 0.8027210884353742, 0.8027210884353742, 0.8027210884353742, 0.8027210884353742, 0.8027210884353742, 0.8027210884353742, 0.8027210884353742, 0.8027210884353742, 0.8027210884353742, 0.8027210884353742, 0.8027210884353742, 0.8027210884353742, 0.8027210884353742, 0.8027210884353742, 0.8027210884353742, 0.8027210884353742, 0.8027210884353742, 0.8027210884353742, 0.8027210884353742, 0.8027210884353742, 0.8027210884353742, 0.8027210884353742, 0.8027210884353742, 0.8027210884353742, 0.8027210884353742, 0.8027210884353742, 0.8027210884353742, 0.8027210884353742, 0.8027210884353742, 0.8027210884353742, 0.8027210884353742, 0.8027210884353742, 0.8027210884353742, 0.8027210884353742, 0.8027210884353742, 0.8027210884353742, 0.8027210884353742, 0.8027210884353742, 0.8027210884353742, 0.8027210884353742, 0.8027210884353742, 0.8027210884353742, 0.8027210884353742, 0.8027210884353742, 0.8027210884353742, 0.8027210884353742, 0.8027210884353742, 0.8027210884353742, 0.8027210884353742, 0.8027210884353742, 0.8027210884353742, 0.8027210884353742, 0.8027210884353742, 0.8027210884353742, 0.8027210884353742, 0.8027210884353742, 0.8027210884353742, 0.8027210884353742, 0.8027210884353742, 0.8027210884353742, 0.8027210884353742, 0.8027210884353742, 0.8027210884353742, 0.8027210884353742, 0.8027210884353742, 0.8027210884353742, 0.8027210884353742]\n",
            "7\n",
            "The best recall value is 0.8061224489795918\n"
          ],
          "name": "stdout"
        }
      ]
    },
    {
      "cell_type": "code",
      "metadata": {
        "id": "c33jeBO9SnfI",
        "colab_type": "code",
        "outputId": "f7e07897-7812-4c41-b4c5-68dc359e2cc8",
        "colab": {
          "base_uri": "https://localhost:8080/",
          "height": 286
        }
      },
      "source": [
        "plot(range(1,101),recall)"
      ],
      "execution_count": 0,
      "outputs": [
        {
          "output_type": "execute_result",
          "data": {
            "text/plain": [
              "[<matplotlib.lines.Line2D at 0x7f4c231557f0>]"
            ]
          },
          "metadata": {
            "tags": []
          },
          "execution_count": 97
        },
        {
          "output_type": "display_data",
          "data": {
            "image/png": "[encoded data removed]",
            "text/plain": [
              "<Figure size 432x288 with 1 Axes>"
            ]
          },
          "metadata": {
            "tags": []
          }
        }
      ]
    },
    {
      "cell_type": "markdown",
      "metadata": {
        "id": "3NZ4x8pghPdP",
        "colab_type": "text"
      },
      "source": [
        "# **Implementing Random Forests**"
      ]
    },
    {
      "cell_type": "code",
      "metadata": {
        "id": "MeTj63wXkq2A",
        "colab_type": "code",
        "outputId": "059a5753-a72f-4f8f-9b86-63adabded60a",
        "colab": {
          "base_uri": "https://localhost:8080/",
          "height": 167
        }
      },
      "source": [
        "from sklearn import metrics\n",
        "model_rf = RandomForestClassifier(n_estimators=50, random_state=1) # SK n_estimatores = no. of trees\n",
        "model_rf.fit(X_train_smote, y_train_smote)\n",
        "prediction_train = model_rf.predict(X_train_smote)\n",
        "\n",
        "accuracy_train = metrics.accuracy_score(y_train_smote, prediction_train)\n",
        "accuracy_train\n",
        "prediction_test = model_rf.predict(X_test)\n",
        "accuracy_test = metrics.accuracy_score(y_test, prediction_test)\n",
        "accuracy_test\n",
        "metrics.confusion_matrix(y_test, prediction_test)\n",
        "print(metrics.classification_report(y_test, prediction_test))"
      ],
      "execution_count": 0,
      "outputs": [
        {
          "output_type": "stream",
          "text": [
            "              precision    recall  f1-score   support\n",
            "\n",
            "         0.0       0.85      0.97      0.91       236\n",
            "         1.0       0.70      0.33      0.45        58\n",
            "\n",
            "    accuracy                           0.84       294\n",
            "   macro avg       0.78      0.65      0.68       294\n",
            "weighted avg       0.82      0.84      0.82       294\n",
            "\n"
          ],
          "name": "stdout"
        }
      ]
    },
    {
      "cell_type": "markdown",
      "metadata": {
        "id": "UF8XKA4OhVwA",
        "colab_type": "text"
      },
      "source": [
        "# **Logistic using Statsmodels.api**"
      ]
    },
    {
      "cell_type": "code",
      "metadata": {
        "id": "Rv62NycktWtQ",
        "colab_type": "code",
        "colab": {}
      },
      "source": [
        "import statsmodels.api as sm\n"
      ],
      "execution_count": 0,
      "outputs": []
    },
    {
      "cell_type": "code",
      "metadata": {
        "id": "3MFefP9rtXtU",
        "colab_type": "code",
        "outputId": "f1c31c8d-166b-4c20-d674-092e729b35f1",
        "colab": {
          "base_uri": "https://localhost:8080/",
          "height": 1000
        }
      },
      "source": [
        "mod = sm.Logit(endog=y_train, exog=X_train)\n",
        "res = mod.fit(method='bfgs', maxiter=100)\n",
        "print (res.summary())"
      ],
      "execution_count": 0,
      "outputs": [
        {
          "output_type": "stream",
          "text": [
            "Warning: Maximum number of iterations has been exceeded.\n",
            "         Current function value: 0.305908\n",
            "         Iterations: 100\n",
            "         Function evaluations: 116\n",
            "         Gradient evaluations: 107\n",
            "                           Logit Regression Results                           \n",
            "==============================================================================\n",
            "Dep. Variable:                      y   No. Observations:                 1176\n",
            "Model:                          Logit   Df Residuals:                     1142\n",
            "Method:                           MLE   Df Model:                           33\n",
            "Date:                Sun, 11 Aug 2019   Pseudo R-squ.:                  0.2828\n",
            "Time:                        20:23:34   Log-Likelihood:                -359.75\n",
            "converged:                      False   LL-Null:                       -501.59\n",
            "Covariance Type:            nonrobust   LLR p-value:                 1.217e-41\n",
            "=============================================================================================================\n",
            "                                                coef    std err          z      P>|z|      [0.025      0.975]\n",
            "-------------------------------------------------------------------------------------------------------------\n",
            "Q(\"BusinessTravel\")[Non-Travel]               0.2925      3.306      0.088      0.930      -6.187       6.772\n",
            "Q(\"BusinessTravel\")[Travel_Frequently]        2.2452      3.287      0.683      0.495      -4.197       8.688\n",
            "Q(\"BusinessTravel\")[Travel_Rarely]            1.3174      3.274      0.402      0.687      -5.099       7.734\n",
            "Q(\"Department\")[T.Research & Development]     1.1154      3.072      0.363      0.717      -4.905       7.136\n",
            "Q(\"Department\")[T.Sales]                      0.9776      3.053      0.320      0.749      -5.005       6.960\n",
            "Q(\"EducationField\")[T.Life Sciences]         -0.4170      0.893     -0.467      0.641      -2.168       1.334\n",
            "Q(\"EducationField\")[T.Marketing]              0.0537      0.945      0.057      0.955      -1.799       1.906\n",
            "Q(\"EducationField\")[T.Medical]               -0.5993      0.896     -0.669      0.503      -2.355       1.156\n",
            "Q(\"EducationField\")[T.Other]                 -0.4431      0.961     -0.461      0.645      -2.326       1.440\n",
            "Q(\"EducationField\")[T.Technical Degree]       0.3720      0.919      0.405      0.686      -1.429       2.173\n",
            "Q(\"Gender\")[T.Male]                           0.2863      0.201      1.428      0.153      -0.107       0.679\n",
            "Q(\"JobRole\")[T.Human Resources]               2.3562      3.106      0.759      0.448      -3.732       8.444\n",
            "Q(\"JobRole\")[T.Laboratory Technician]         1.5877      0.514      3.087      0.002       0.580       2.596\n",
            "Q(\"JobRole\")[T.Manager]                      -0.2603      1.091     -0.239      0.811      -2.399       1.879\n",
            "Q(\"JobRole\")[T.Manufacturing Director]       -0.3502      0.579     -0.605      0.545      -1.484       0.784\n",
            "Q(\"JobRole\")[T.Research Director]            -1.4641      0.986     -1.484      0.138      -3.397       0.469\n",
            "Q(\"JobRole\")[T.Research Scientist]            0.5252      0.529      0.992      0.321      -0.512       1.563\n",
            "Q(\"JobRole\")[T.Sales Executive]               0.8632      1.313      0.657      0.511      -1.711       3.437\n",
            "Q(\"JobRole\")[T.Sales Representative]          2.2705      1.363      1.666      0.096      -0.400       4.941\n",
            "Q(\"MaritalStatus\")[T.Married]                 0.2611      0.282      0.927      0.354      -0.291       0.813\n",
            "Q(\"MaritalStatus\")[T.Single]                  1.1173      0.283      3.943      0.000       0.562       1.673\n",
            "Q(\"OverTime\")[T.Yes]                          1.7081      0.206      8.307      0.000       1.305       2.111\n",
            "Q(\"Age\")                                     -0.0289      0.015     -1.910      0.056      -0.058       0.001\n",
            "Q(\"EnvironmentSatisfaction\")                 -0.3611      0.089     -4.040      0.000      -0.536      -0.186\n",
            "Q(\"JobInvolvement\")                          -0.5087      0.130     -3.904      0.000      -0.764      -0.253\n",
            "Q(\"JobLevel\")                                 0.1863      0.328      0.569      0.570      -0.456       0.828\n",
            "Q(\"JobSatisfaction\")                         -0.2906      0.087     -3.331      0.001      -0.462      -0.120\n",
            "Q(\"MonthlyIncome\")                         3.912e-05   8.51e-05      0.460      0.646      -0.000       0.000\n",
            "Q(\"NumCompaniesWorked\")                       0.1241      0.041      3.038      0.002       0.044       0.204\n",
            "Q(\"PercentSalaryHike\")                       -0.0260      0.028     -0.929      0.353      -0.081       0.029\n",
            "Q(\"RelationshipSatisfaction\")                -0.1039      0.091     -1.138      0.255      -0.283       0.075\n",
            "Q(\"TotalWorkingYears\")                       -0.0483      0.027     -1.789      0.074      -0.101       0.005\n",
            "Q(\"TrainingTimesLastYear\")                   -0.1414      0.082     -1.730      0.084      -0.301       0.019\n",
            "Q(\"WorkLifeBalance\")                         -0.5177      0.139     -3.735      0.000      -0.789      -0.246\n",
            "=============================================================================================================\n"
          ],
          "name": "stdout"
        },
        {
          "output_type": "stream",
          "text": [
            "/usr/local/lib/python3.6/dist-packages/statsmodels/discrete/discrete_model.py:1736: RuntimeWarning: overflow encountered in exp\n",
            "  return 1/(1+np.exp(-X))\n",
            "/usr/local/lib/python3.6/dist-packages/statsmodels/discrete/discrete_model.py:1789: RuntimeWarning: divide by zero encountered in log\n",
            "  return np.sum(np.log(self.cdf(q*np.dot(X,params))))\n",
            "/usr/local/lib/python3.6/dist-packages/statsmodels/discrete/discrete_model.py:1736: RuntimeWarning: overflow encountered in exp\n",
            "  return 1/(1+np.exp(-X))\n",
            "/usr/local/lib/python3.6/dist-packages/statsmodels/discrete/discrete_model.py:1789: RuntimeWarning: divide by zero encountered in log\n",
            "  return np.sum(np.log(self.cdf(q*np.dot(X,params))))\n",
            "/usr/local/lib/python3.6/dist-packages/statsmodels/base/model.py:512: ConvergenceWarning: Maximum Likelihood optimization failed to converge. Check mle_retvals\n",
            "  \"Check mle_retvals\", ConvergenceWarning)\n"
          ],
          "name": "stderr"
        }
      ]
    }
  ]
}